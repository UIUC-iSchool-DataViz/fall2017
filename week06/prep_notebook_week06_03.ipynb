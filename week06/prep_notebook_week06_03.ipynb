{
 "cells": [
  {
   "cell_type": "markdown",
   "metadata": {},
   "source": [
    "# Color Spaces\n",
    "\n",
    "In this notebook, we will explore how colormaps move through two colorspaces, specifically [HSV](https://en.wikipedia.org/wiki/HSL_and_HSV) and RGB."
   ]
  },
  {
   "cell_type": "code",
   "execution_count": 1,
   "metadata": {
    "collapsed": true
   },
   "outputs": [],
   "source": [
    "%matplotlib inline"
   ]
  },
  {
   "cell_type": "code",
   "execution_count": 2,
   "metadata": {
    "collapsed": true
   },
   "outputs": [],
   "source": [
    "import matplotlib.pyplot as plt\n",
    "import numpy as np\n",
    "from PIL import Image\n",
    "import IPython.display\n",
    "import io\n",
    "from mpl_toolkits.mplot3d import Axes3D\n",
    "import matplotlib.cm\n",
    "import ipywidgets\n",
    "plt.rcParams[\"figure.figsize\"] = (16, 12)"
   ]
  },
  {
   "cell_type": "markdown",
   "metadata": {},
   "source": [
    "The next cell is going to set up two different functions.  One will take rgb values and rotate them through RGB space, and the other will plot a nice depiction of the colormap in RGB space."
   ]
  },
  {
   "cell_type": "code",
   "execution_count": 3,
   "metadata": {
    "collapsed": true
   },
   "outputs": [],
   "source": [
    "def rotate(arr, theta, phi, psi):\n",
    "    Rx = np.array([[1, 0, 0],\n",
    "                   [0, np.cos(phi), np.sin(phi)],\n",
    "                   [0.0, -np.sin(phi), np.cos(phi)]])\n",
    "    Ry = np.array([[np.cos(theta), 0, -np.sin(theta)],\n",
    "                   [0.0, 1.0, 0.0],\n",
    "                  [np.sin(theta), 0, np.cos(theta)]])\n",
    "    Rz = np.array([[np.cos(psi), np.sin(psi), 0],\n",
    "                  [-np.sin(psi), np.cos(psi), 0],\n",
    "                  [0, 0, 1]])\n",
    "    R = np.dot(Rx, Ry).dot(Rz)\n",
    "    return np.dot(arr - 0.5, R) + 0.5\n",
    "    \n",
    "    \n",
    "def plot_colortable(colortable, theta = 0.0, phi = 0.0, psi = 0.0):\n",
    "    title = \"\"\n",
    "    if isinstance(colortable, str):\n",
    "        title = title or colortable\n",
    "        colortable = matplotlib.cm.cmap_d[colortable](np.mgrid[0.0:1.0:256j])\n",
    "    colortable = rotate(colortable[:,:3], theta, phi, psi)\n",
    "    fig = plt.figure(figsize=(20, 16))\n",
    "    ax = fig.add_axes([0.0, 0.25, 0.75, 0.75], projection=\"3d\")\n",
    "    ax.plot(colortable[:,0], colortable[:,1], colortable[:,2], '-', lw=4)\n",
    "    ax.set_xlim(-0.05, 1.05)\n",
    "    ax.set_ylim(-0.05, 1.05)\n",
    "    ax.set_zlim(-0.05, 1.05)\n",
    "    ax.set_xlabel(\"Red\")\n",
    "    ax.set_ylabel(\"Green\")\n",
    "    ax.set_zlabel(\"Blue\")\n",
    "    \n",
    "    ax = fig.add_axes([0.75, 0.76, 0.25, 0.20])\n",
    "    ax.plot(colortable[:,0], colortable[:,1], '-', lw=4)\n",
    "    ax.set_xlim(-0.05, 1.05)\n",
    "    ax.set_ylim(-0.05, 1.05)\n",
    "    ax.set_xlabel(\"Red\", fontsize=18)\n",
    "    ax.set_ylabel(\"Green\", fontsize=18)\n",
    "\n",
    "    ax = fig.add_axes([0.75, 0.52, 0.25, 0.20])\n",
    "    ax.plot(colortable[:,0], colortable[:,2], '-', lw=4)\n",
    "    ax.set_xlim(-0.05, 1.05)\n",
    "    ax.set_ylim(-0.05, 1.05)\n",
    "    ax.set_xlabel(\"Red\", fontsize=18)\n",
    "    ax.set_ylabel(\"Blue\", fontsize=18)\n",
    "    \n",
    "    ax = fig.add_axes([0.75, 0.28, 0.25, 0.20])\n",
    "    ax.plot(colortable[:,1], colortable[:,2], '-', lw=4)\n",
    "    ax.set_xlim(-0.05, 1.05)\n",
    "    ax.set_ylim(-0.05, 1.095)\n",
    "    ax.set_xlabel(\"Green\", fontsize=18)\n",
    "    ax.set_ylabel(\"Blue\", fontsize=18)\n",
    "\n",
    "    # Now we do three colorbars that span the whole thing\n",
    "    \n",
    "    im = np.ones((16, colortable.shape[0], 4), dtype=\"uint8\")\n",
    "    im[...,:3] = (colortable * 255).astype(\"uint8\")[None,:,:]\n",
    "    im[...,3] = 255\n",
    "    im_no_red = im.copy()\n",
    "    im_no_red[:,:,0] = 0\n",
    "    \n",
    "    im_no_green = im.copy()\n",
    "    im_no_green[:,:,1] = 0\n",
    "    \n",
    "    im_no_blue = im.copy()\n",
    "    im_no_blue[:,:,2] = 0\n",
    "\n",
    "    aspect = im.shape[0]/im.shape[1] * 10\n",
    "    \n",
    "    ax = fig.add_axes([0.0, 0.0, 1.0, 0.05])\n",
    "    ax.imshow(im, interpolation='nearest', aspect = aspect)\n",
    "    ax.set_ylabel(\"Standard\", fontsize=16)\n",
    "    ax.yaxis.set_ticks([])\n",
    "    ax.xaxis.set_visible(False)\n",
    "\n",
    "    ax = fig.add_axes([0.0, 0.06, 1.0, 0.05])\n",
    "    ax.imshow(im_no_red, interpolation='nearest', aspect = aspect)\n",
    "    ax.set_ylabel(\"No Red\", fontsize=16)\n",
    "    ax.yaxis.set_ticks([])\n",
    "    ax.xaxis.set_visible(False)\n",
    "    \n",
    "    ax = fig.add_axes([0.0, 0.12, 1.0, 0.05])\n",
    "    ax.imshow(im_no_green, interpolation='nearest', aspect = aspect)\n",
    "    ax.set_ylabel(\"No Green\", fontsize=16)\n",
    "    ax.yaxis.set_ticks([])\n",
    "    ax.xaxis.set_visible(False)\n",
    "    \n",
    "    ax = fig.add_axes([0.0, 0.18, 1.0, 0.05])\n",
    "    ax.imshow(im_no_blue, interpolation='nearest', aspect = aspect)\n",
    "    ax.set_ylabel(\"No Blue\", fontsize=16)\n",
    "    ax.yaxis.set_ticks([])\n",
    "    ax.xaxis.set_visible(False)\n",
    "    \n",
    "    if title is not None:\n",
    "        fig.suptitle(title, fontsize = 24)"
   ]
  },
  {
   "cell_type": "markdown",
   "metadata": {},
   "source": [
    "Let's create a widget, and see what our colormaps look like in those dimensions."
   ]
  },
  {
   "cell_type": "code",
   "execution_count": 4,
   "metadata": {},
   "outputs": [
    {
     "data": {
      "application/vnd.jupyter.widget-view+json": {
       "model_id": "b0e07cd0069749dc91ccc7d5d040b018",
       "version_major": 2,
       "version_minor": 0
      },
      "text/html": [
       "<p>Failed to display Jupyter Widget of type <code>interactive</code>.</p>\n",
       "<p>\n",
       "  If you're reading this message in Jupyter Notebook or JupyterLab, it may mean\n",
       "  that the widgets JavaScript is still loading. If this message persists, it\n",
       "  likely means that the widgets JavaScript library is either not installed or\n",
       "  not enabled. See the <a href=\"https://ipywidgets.readthedocs.io/en/stable/user_install.html\">Jupyter\n",
       "  Widgets Documentation</a> for setup instructions.\n",
       "</p>\n",
       "<p>\n",
       "  If you're reading this message in another notebook frontend (for example, a static\n",
       "  rendering on GitHub or <a href=\"https://nbviewer.jupyter.org/\">NBViewer</a>),\n",
       "  it may mean that your frontend doesn't currently support widgets.\n",
       "</p>\n"
      ],
      "text/plain": [
       "interactive(children=(Dropdown(description='colortable', options=('viridis', 'jet', 'RdBu', 'Blues'), value='viridis'), FloatSlider(value=0.0, description='theta', max=6.283185307179586, step=0.01), FloatSlider(value=0.0, description='phi', max=6.283185307179586, step=0.01), FloatSlider(value=0.0, description='psi', max=6.283185307179586, step=0.01), Output()), _dom_classes=('widget-interact',))"
      ]
     },
     "metadata": {},
     "output_type": "display_data"
    },
    {
     "data": {
      "text/plain": [
       "<function __main__.plot_colortable>"
      ]
     },
     "execution_count": 4,
     "metadata": {},
     "output_type": "execute_result"
    }
   ],
   "source": [
    "ipywidgets.interact(plot_colortable, colortable = [\"viridis\", \"jet\", \"RdBu\", \"Blues\"],\n",
    "                   theta = (0.0, 2.0*np.pi, 0.01), phi = (0.0, 2.0*np.pi, 0.01), psi = (0.0, 2.0*np.pi, 0.01))"
   ]
  },
  {
   "cell_type": "markdown",
   "metadata": {},
   "source": [
    "A better representation of this would be in HSV space.  Here we convert from RGB to HSV, which can be a tricky process.  Note that HSV space is periodic in Hue, so we can rotate around the axis and it will remain continous."
   ]
  },
  {
   "cell_type": "code",
   "execution_count": 5,
   "metadata": {
    "collapsed": true
   },
   "outputs": [],
   "source": [
    "def move_cylinder(arr, theta, phi, psi):\n",
    "    Rx = np.array([[1, 0, 0],\n",
    "                   [0, np.cos(phi), np.sin(phi)],\n",
    "                   [0.0, -np.sin(phi), np.cos(phi)]])\n",
    "    Ry = np.array([[np.cos(theta), 0, -np.sin(theta)],\n",
    "                   [0.0, 1.0, 0.0],\n",
    "                  [np.sin(theta), 0, np.cos(theta)]])\n",
    "    Rz = np.array([[np.cos(psi), np.sin(psi), 0],\n",
    "                  [-np.sin(psi), np.cos(psi), 0],\n",
    "                  [0, 0, 1]])\n",
    "    R = np.dot(Rx, Ry).dot(Rz)\n",
    "    return np.dot(arr - 0.5, R) + 0.5\n",
    "\n",
    "def rgb_to_hsv(arr):\n",
    "    # https://en.wikipedia.org/wiki/HSL_and_HSV has info; we will use C_2 and H_2\n",
    "    # The colortable is in the range 0..1.\n",
    "    alpha = 0.5 * (2*arr[...,0] - arr[...,1] - arr[...,2])\n",
    "    beta = np.sqrt(3)/2.0 * (arr[...,1] - arr[...,2])\n",
    "    H2 = np.arctan2(beta, alpha)\n",
    "    H2[H2<0] += 2.0 * np.pi\n",
    "    C2 = np.sqrt(alpha**2 + beta**2)\n",
    "    ma = np.max(arr, axis=-1)\n",
    "    mi = np.min(arr, axis=-1)\n",
    "    V = ma\n",
    "    S = C2/V\n",
    "    np.nan_to_num(S)\n",
    "    return np.stack([H2, S, V], axis=-1)\n",
    "\n",
    "def hsv_to_rgb(arr):\n",
    "    # H, S, V\n",
    "    C = arr[...,2] * arr[...,1]\n",
    "    Hp = arr[...,0] / (np.pi/3)\n",
    "    \n",
    "    X = C * (1.0 - np.abs(np.mod(Hp, 2) - 1))\n",
    "    c1 = (0 <= Hp) & (Hp < 1)\n",
    "    c2 = (1 <= Hp) & (Hp < 2)\n",
    "    c3 = (2 <= Hp) & (Hp < 3)\n",
    "    c4 = (3 <= Hp) & (Hp < 4)\n",
    "    c5 = (4 <= Hp) & (Hp < 5)\n",
    "    c6 = (5 <= Hp) & (Hp <= 6)\n",
    "\n",
    "    rgb = np.zeros_like(arr)\n",
    "    rgb[c1,0] = C[c1]\n",
    "    rgb[c1,1] = X[c1]\n",
    "    rgb[c1,2] = 0\n",
    "    \n",
    "    rgb[c2,0] = X[c2]\n",
    "    rgb[c2,1] = C[c2]\n",
    "    rgb[c2,2] = 0\n",
    "    \n",
    "    rgb[c3,0] = 0\n",
    "    rgb[c3,1] = C[c3]\n",
    "    rgb[c3,2] = X[c3]\n",
    "    \n",
    "    rgb[c4,0] = 0\n",
    "    rgb[c4,1] = X[c4]\n",
    "    rgb[c4,2] = C[c4]\n",
    "    \n",
    "    rgb[c5,0] = X[c5]\n",
    "    rgb[c5,1] = 0\n",
    "    rgb[c5,2] = C[c5]\n",
    "    \n",
    "    rgb[c6,0] = C[c6]\n",
    "    rgb[c6,1] = 0\n",
    "    rgb[c6,2] = X[c6]\n",
    "    \n",
    "    mi = arr[...,2] - C\n",
    "    \n",
    "    rgb += mi[...,None]\n",
    "    \n",
    "    return rgb\n",
    "\n",
    "def plot_colortable_hsv(colortable, hue_theta = 0.0, sat_scale = 1.0, val_scale = 1.0):\n",
    "    title = \"\"\n",
    "    if isinstance(colortable, str):\n",
    "        title = title or colortable\n",
    "        colortable = matplotlib.cm.cmap_d[colortable](np.mgrid[0.0:1.0:256j])\n",
    "    HSV = rgb_to_hsv(colortable[...,:3])\n",
    "    \n",
    "    # Now we scale and rotate\n",
    "    angle = hue_theta + HSV[...,0]\n",
    "    HSV[...,0] = angle - 2.0*np.pi * np.floor(angle / (2.0*np.pi))\n",
    "    HSV[...,1] = np.clip(sat_scale * HSV[...,1], 0.0, 1.0)\n",
    "    HSV[...,2] = np.clip(val_scale * HSV[...,2], 0.0, 1.0)\n",
    "    \n",
    "    fig = plt.figure(figsize=(20, 16))\n",
    "    ax = fig.add_axes([0.0, 0.25, 0.75, 0.75], projection=\"3d\")\n",
    "    x = HSV[...,1] * np.cos(HSV[...,0])\n",
    "    y = HSV[...,1] * np.sin(HSV[...,0])\n",
    "    z = HSV[...,2]\n",
    "    ax.plot(x, y, z, '.-', markevery=10, lw=4, ms=16)\n",
    "    ax.set_xlim(-1.05, 1.05)\n",
    "    ax.set_ylim(-1.05, 1.05)\n",
    "    ax.set_zlim(-0.05, 1.05)\n",
    "    ax.set_xlabel(\"Hue\")\n",
    "    ax.set_ylabel(\"Saturation\")\n",
    "    ax.set_zlabel(\"Value\")\n",
    "    \n",
    "    ax = fig.add_axes([0.75, 0.76, 0.25, 0.20], projection=\"polar\")\n",
    "    ax.plot(HSV[:,0], HSV[:,1], '.-', markevery=10, lw=4, ms=16)\n",
    "    ax.set_xlim(-0.05, 2.0*np.pi + 0.05)\n",
    "    ax.set_ylim(-0.05, 1.05)\n",
    "    ax.set_title(\"Saturation\", fontsize=18)\n",
    "\n",
    "    ax = fig.add_axes([0.75, 0.52, 0.25, 0.20])\n",
    "    ax.plot(HSV[:,0], HSV[:,2], '.-', markevery=10, lw=4, ms=16)\n",
    "    ax.set_xlim(-0.05, 2.0*np.pi + 0.05)\n",
    "    ax.set_ylim(-0.05, 1.05)\n",
    "    ax.set_title(\"Value\", fontsize=18)\n",
    "    \n",
    "    ax = fig.add_axes([0.75, 0.28, 0.25, 0.20])\n",
    "    ax.plot(HSV[:,1], HSV[:,2], '.-', markevery=10, lw=4, ms=16)\n",
    "    ax.set_xlim(-0.05, 1.05)\n",
    "    ax.set_ylim(-0.05, 1.095)\n",
    "    ax.set_xlabel(\"Saturation\", fontsize=18)\n",
    "    ax.set_ylabel(\"Value\", fontsize=18)\n",
    "\n",
    "    # Now we do three colorbars that span the whole thing\n",
    "    \n",
    "    colortable = hsv_to_rgb(HSV)\n",
    "    \n",
    "    im = np.ones((16, colortable.shape[0], 4), dtype=\"uint8\")\n",
    "    im[...,:3] = (colortable * 255).astype(\"uint8\")[None,:,:]\n",
    "    im[...,3] = 255\n",
    "    im_no_red = im.copy()\n",
    "    im_no_red[:,:,0] = 0\n",
    "    \n",
    "    im_no_green = im.copy()\n",
    "    im_no_green[:,:,1] = 0\n",
    "    \n",
    "    im_no_blue = im.copy()\n",
    "    im_no_blue[:,:,2] = 0\n",
    "\n",
    "    aspect = im.shape[0]/im.shape[1] * 10\n",
    "    \n",
    "    ax = fig.add_axes([0.0, 0.0, 1.0, 0.05])\n",
    "    ax.imshow(im, interpolation='nearest', aspect = aspect)\n",
    "    ax.set_ylabel(\"Standard\", fontsize=16)\n",
    "    ax.yaxis.set_ticks([])\n",
    "    ax.xaxis.set_visible(False)\n",
    "\n",
    "    ax = fig.add_axes([0.0, 0.06, 1.0, 0.05])\n",
    "    ax.imshow(im_no_red, interpolation='nearest', aspect = aspect)\n",
    "    ax.set_ylabel(\"No Red\", fontsize=16)\n",
    "    ax.yaxis.set_ticks([])\n",
    "    ax.xaxis.set_visible(False)\n",
    "    \n",
    "    ax = fig.add_axes([0.0, 0.12, 1.0, 0.05])\n",
    "    ax.imshow(im_no_green, interpolation='nearest', aspect = aspect)\n",
    "    ax.set_ylabel(\"No Green\", fontsize=16)\n",
    "    ax.yaxis.set_ticks([])\n",
    "    ax.xaxis.set_visible(False)\n",
    "    \n",
    "    ax = fig.add_axes([0.0, 0.18, 1.0, 0.05])\n",
    "    ax.imshow(im_no_blue, interpolation='nearest', aspect = aspect)\n",
    "    ax.set_ylabel(\"No Blue\", fontsize=16)\n",
    "    ax.yaxis.set_ticks([])\n",
    "    ax.xaxis.set_visible(False)\n",
    "    \n",
    "    if title is not None:\n",
    "        fig.suptitle(title, fontsize = 24)"
   ]
  },
  {
   "cell_type": "code",
   "execution_count": 6,
   "metadata": {},
   "outputs": [
    {
     "data": {
      "application/vnd.jupyter.widget-view+json": {
       "model_id": "0f8636e015ee4775a0c397ffeb1e002a",
       "version_major": 2,
       "version_minor": 0
      },
      "text/html": [
       "<p>Failed to display Jupyter Widget of type <code>interactive</code>.</p>\n",
       "<p>\n",
       "  If you're reading this message in Jupyter Notebook or JupyterLab, it may mean\n",
       "  that the widgets JavaScript is still loading. If this message persists, it\n",
       "  likely means that the widgets JavaScript library is either not installed or\n",
       "  not enabled. See the <a href=\"https://ipywidgets.readthedocs.io/en/stable/user_install.html\">Jupyter\n",
       "  Widgets Documentation</a> for setup instructions.\n",
       "</p>\n",
       "<p>\n",
       "  If you're reading this message in another notebook frontend (for example, a static\n",
       "  rendering on GitHub or <a href=\"https://nbviewer.jupyter.org/\">NBViewer</a>),\n",
       "  it may mean that your frontend doesn't currently support widgets.\n",
       "</p>\n"
      ],
      "text/plain": [
       "interactive(children=(Dropdown(description='colortable', options=('viridis', 'jet', 'gray', 'gist_stern', 'flag', 'magma'), value='viridis'), FloatSlider(value=0.0, description='hue_theta', max=3.141592653589793, min=-3.141592653589793, step=0.01), FloatSlider(value=1.0, description='sat_scale', max=10.0, min=0.01, step=0.01), FloatSlider(value=1.0, description='val_scale', max=10.0, min=0.01, step=0.01), Output()), _dom_classes=('widget-interact',))"
      ]
     },
     "metadata": {},
     "output_type": "display_data"
    },
    {
     "data": {
      "text/plain": [
       "<function __main__.plot_colortable_hsv>"
      ]
     },
     "execution_count": 6,
     "metadata": {},
     "output_type": "execute_result"
    }
   ],
   "source": [
    "ipywidgets.interact(plot_colortable_hsv, colortable = [\"viridis\", \"jet\", \"gray\", \"gist_stern\", \"flag\", \"magma\"],\n",
    "                    hue_theta = (-1.0*np.pi, 1.0*np.pi, 0.01),\n",
    "                    sat_scale = (0.01, 10.0, 0.01),\n",
    "                    val_scale = (0.01, 10.0, 0.01))"
   ]
  },
  {
   "cell_type": "code",
   "execution_count": null,
   "metadata": {
    "collapsed": true
   },
   "outputs": [],
   "source": []
  }
 ],
 "metadata": {
  "anaconda-cloud": {},
  "kernelspec": {
   "display_name": "Python 3",
   "language": "python",
   "name": "python3"
  },
  "language_info": {
   "codemirror_mode": {
    "name": "ipython",
    "version": 3
   },
   "file_extension": ".py",
   "mimetype": "text/x-python",
   "name": "python",
   "nbconvert_exporter": "python",
   "pygments_lexer": "ipython3",
   "version": "3.6.3"
  },
  "widgets": {
   "state": {
    "0d545a36b534403dbb6c2ca4b1a97a5a": {
     "views": [
      {
       "cell_index": 4
      }
     ]
    },
    "4bd1daf6290a4b6fb94bd2ab43bc161c": {
     "views": [
      {
       "cell_index": 6
      }
     ]
    }
   },
   "version": "1.2.0"
  }
 },
 "nbformat": 4,
 "nbformat_minor": 2
}
