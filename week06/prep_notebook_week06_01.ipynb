{
 "cells": [
  {
   "cell_type": "code",
   "execution_count": 1,
   "metadata": {
    "collapsed": true
   },
   "outputs": [],
   "source": [
    "%matplotlib inline"
   ]
  },
  {
   "cell_type": "code",
   "execution_count": 2,
   "metadata": {
    "collapsed": true
   },
   "outputs": [],
   "source": [
    "import matplotlib.pyplot as plt\n",
    "import numpy as np\n",
    "import csv, json\n",
    "plt.rcParams[\"figure.figsize\"] = (12,12)"
   ]
  },
  {
   "cell_type": "code",
   "execution_count": 3,
   "metadata": {
    "collapsed": true
   },
   "outputs": [],
   "source": [
    "ega_palette = {\n",
    "    0:  (0x00, 0x00, 0x00),\n",
    "    1:  (0x00, 0x00, 0xAA),\n",
    "    2:  (0x00, 0xAA, 0x00),\n",
    "    3:  (0x00, 0xAA, 0xAA),\n",
    "    4:  (0xAA, 0x00, 0x00),\n",
    "    5:  (0xAA, 0x00, 0xAA),\n",
    "    6:  (0xAA, 0x55, 0x00),\n",
    "    7:  (0xAA, 0xAA, 0xAA),\n",
    "    8:  (0x55, 0x55, 0x55),\n",
    "    9:  (0x55, 0x55, 0xFF),\n",
    "    10: (0x55, 0xFF, 0x55),\n",
    "    11: (0x55, 0xFF, 0xFF),\n",
    "    12: (0xFF, 0x55, 0x55),\n",
    "    13: (0xFF, 0x55, 0xFF),\n",
    "    14: (0xFF, 0xFF, 0x55),\n",
    "    15: (0xFF, 0xFF, 0xFF),\n",
    "}"
   ]
  },
  {
   "cell_type": "code",
   "execution_count": 4,
   "metadata": {
    "collapsed": true
   },
   "outputs": [],
   "source": [
    "im = np.zeros((16, 4), dtype=\"uint8\")\n",
    "im[:,3] = 255\n",
    "for i in ega_palette:\n",
    "    im[i,:3] = ega_palette[i]\n",
    "im2 = im.reshape((4,4,4))"
   ]
  },
  {
   "cell_type": "code",
   "execution_count": 5,
   "metadata": {},
   "outputs": [
    {
     "data": {
      "text/plain": [
       "<matplotlib.image.AxesImage at 0x7fd2e8dc5748>"
      ]
     },
     "execution_count": 5,
     "metadata": {},
     "output_type": "execute_result"
    },
    {
     "data": {
      "image/png": "[encoded data removed]",
      "text/plain": [
       "<matplotlib.figure.Figure at 0x7fd30c6d4ba8>"
      ]
     },
     "metadata": {},
     "output_type": "display_data"
    }
   ],
   "source": [
    "plt.imshow(im2, interpolation=\"nearest\")"
   ]
  },
  {
   "cell_type": "code",
   "execution_count": 6,
   "metadata": {},
   "outputs": [
    {
     "data": {
      "text/plain": [
       "['seaborn-dark-palette',\n",
       " 'seaborn-deep',\n",
       " 'seaborn-poster',\n",
       " 'seaborn-colorblind',\n",
       " 'seaborn-white',\n",
       " 'seaborn-talk',\n",
       " 'classic',\n",
       " 'fivethirtyeight',\n",
       " 'seaborn-paper',\n",
       " 'seaborn-muted',\n",
       " 'seaborn-notebook',\n",
       " 'seaborn-pastel',\n",
       " 'seaborn-ticks',\n",
       " 'dark_background',\n",
       " 'seaborn-bright',\n",
       " 'ggplot',\n",
       " '_classic_test',\n",
       " 'grayscale',\n",
       " 'seaborn',\n",
       " 'seaborn-darkgrid',\n",
       " 'seaborn-whitegrid',\n",
       " 'seaborn-dark',\n",
       " 'bmh']"
      ]
     },
     "execution_count": 6,
     "metadata": {},
     "output_type": "execute_result"
    }
   ],
   "source": [
    "plt.style.available"
   ]
  },
  {
   "cell_type": "code",
   "execution_count": 7,
   "metadata": {
    "collapsed": true
   },
   "outputs": [],
   "source": [
    "import ipywidgets\n",
    "import numpy as np\n",
    "\n",
    "def make_cardiod(a = 0.5, style=\"classic\"):\n",
    "    theta = np.mgrid[0.0:2.0*np.pi:1000j]\n",
    "    r = a**3 * np.sin(theta-2)**2 + 4 * np.cos(2*theta-5)\n",
    "    with plt.style.context(style):\n",
    "        plt.polar(r, theta,)"
   ]
  },
  {
   "cell_type": "code",
   "execution_count": 8,
   "metadata": {},
   "outputs": [
    {
     "data": {
      "application/vnd.jupyter.widget-view+json": {
       "model_id": "698b967f997b479ab11f2fdc26c9d94b",
       "version_major": 2,
       "version_minor": 0
      },
      "text/html": [
       "<p>Failed to display Jupyter Widget of type <code>interactive</code>.</p>\n",
       "<p>\n",
       "  If you're reading this message in Jupyter Notebook or JupyterLab, it may mean\n",
       "  that the widgets JavaScript is still loading. If this message persists, it\n",
       "  likely means that the widgets JavaScript library is either not installed or\n",
       "  not enabled. See the <a href=\"https://ipywidgets.readthedocs.io/en/stable/user_install.html\">Jupyter\n",
       "  Widgets Documentation</a> for setup instructions.\n",
       "</p>\n",
       "<p>\n",
       "  If you're reading this message in another notebook frontend (for example, a static\n",
       "  rendering on GitHub or <a href=\"https://nbviewer.jupyter.org/\">NBViewer</a>),\n",
       "  it may mean that your frontend doesn't currently support widgets.\n",
       "</p>\n"
      ],
      "text/plain": [
       "interactive(children=(FloatSlider(value=0.5, description='a', max=10.0, step=0.01), Dropdown(description='style', index=2, options=('_classic_test', 'bmh', 'classic', 'dark_background', 'fivethirtyeight', 'ggplot', 'grayscale', 'seaborn', 'seaborn-bright', 'seaborn-colorblind', 'seaborn-dark', 'seaborn-dark-palette', 'seaborn-darkgrid', 'seaborn-deep', 'seaborn-muted', 'seaborn-notebook', 'seaborn-paper', 'seaborn-pastel', 'seaborn-poster', 'seaborn-talk', 'seaborn-ticks', 'seaborn-white', 'seaborn-whitegrid'), value='classic'), Output()), _dom_classes=('widget-interact',))"
      ]
     },
     "metadata": {},
     "output_type": "display_data"
    },
    {
     "data": {
      "text/plain": [
       "<function __main__.make_cardiod>"
      ]
     },
     "execution_count": 8,
     "metadata": {},
     "output_type": "execute_result"
    }
   ],
   "source": [
    "ipywidgets.interact(make_cardiod, a = (0.0, 10.0, 0.01), style = sorted(plt.style.available))"
   ]
  },
  {
   "cell_type": "code",
   "execution_count": 9,
   "metadata": {},
   "outputs": [
    {
     "data": {
      "text/plain": [
       "['#000000',\n",
       " '#0000aa',\n",
       " '#00aa00',\n",
       " '#00aaaa',\n",
       " '#aa0000',\n",
       " '#aa00aa',\n",
       " '#aa5500',\n",
       " '#aaaaaa',\n",
       " '#555555',\n",
       " '#5555ff',\n",
       " '#55ff55',\n",
       " '#55ffff',\n",
       " '#ff5555',\n",
       " '#ff55ff',\n",
       " '#ffff55',\n",
       " '#ffffff']"
      ]
     },
     "execution_count": 9,
     "metadata": {},
     "output_type": "execute_result"
    }
   ],
   "source": [
    "colors = [\"#{0:02x}{1:02x}{2:02x}\".format(*_) for _ in im.tolist()]\n",
    "colors"
   ]
  },
  {
   "cell_type": "code",
   "execution_count": 10,
   "metadata": {
    "collapsed": true
   },
   "outputs": [],
   "source": [
    "cycle = plt.cycler(\"colors\", colors)"
   ]
  },
  {
   "cell_type": "code",
   "execution_count": 11,
   "metadata": {},
   "outputs": [
    {
     "data": {
      "text/plain": [
       "<matplotlib.collections.PathCollection at 0x7fd2e8c86a58>"
      ]
     },
     "execution_count": 11,
     "metadata": {},
     "output_type": "execute_result"
    },
    {
     "data": {
      "image/png": "[encoded data removed]",
      "text/plain": [
       "<matplotlib.figure.Figure at 0x7fd2e8d40ac8>"
      ]
     },
     "metadata": {},
     "output_type": "display_data"
    }
   ],
   "source": [
    "plt.scatter([1,2,3,4], [2,3,4,5])\n",
    "plt.scatter([1,2,3,4], [1,2,3,4])\n",
    "plt.scatter([1,2,3,4], [3,4,5,6])"
   ]
  },
  {
   "cell_type": "code",
   "execution_count": 12,
   "metadata": {},
   "outputs": [
    {
     "data": {
      "image/png": "[encoded data removed]",
      "text/plain": [
       "<matplotlib.figure.Figure at 0x7fd2e8cbf828>"
      ]
     },
     "metadata": {},
     "output_type": "display_data"
    }
   ],
   "source": [
    "with plt.style.context(\"seaborn\"):\n",
    "    plt.scatter([1,2,3,4], [2,3,4,5])\n",
    "    plt.scatter([1,2,3,4], [1,2,3,4])\n",
    "    plt.scatter([1,2,3,4], [3,4,5,6])"
   ]
  },
  {
   "cell_type": "code",
   "execution_count": 13,
   "metadata": {},
   "outputs": [
    {
     "data": {
      "text/plain": [
       "<matplotlib.collections.PathCollection at 0x7fd2e8b47e48>"
      ]
     },
     "execution_count": 13,
     "metadata": {},
     "output_type": "execute_result"
    },
    {
     "data": {
      "image/png": "[encoded data removed]",
      "text/plain": [
       "<matplotlib.figure.Figure at 0x7fd2e8cbff28>"
      ]
     },
     "metadata": {},
     "output_type": "display_data"
    }
   ],
   "source": [
    "plt.scatter([1,2,3,4], [2,3,4,5])\n",
    "plt.scatter([1,2,3,4], [1,2,3,4])\n",
    "plt.scatter([1,2,3,4], [3,4,5,6])"
   ]
  },
  {
   "cell_type": "code",
   "execution_count": 14,
   "metadata": {},
   "outputs": [
    {
     "name": "stdout",
     "output_type": "stream",
     "text": [
      "['#000000', '#0000aa', '#00aa00', '#00aaaa', '#aa0000', '#aa00aa', '#aa5500', '#aaaaaa', '#555555', '#5555ff', '#55ff55', '#55ffff', '#ff5555', '#ff55ff', '#ffff55', '#ffffff']\n"
     ]
    }
   ],
   "source": [
    "print(colors)"
   ]
  },
  {
   "cell_type": "code",
   "execution_count": 15,
   "metadata": {},
   "outputs": [
    {
     "data": {
      "text/plain": [
       "['_internal.classic_mode',\n",
       " 'agg.path.chunksize',\n",
       " 'animation.avconv_args',\n",
       " 'animation.avconv_path',\n",
       " 'animation.bitrate',\n",
       " 'animation.codec',\n",
       " 'animation.convert_args',\n",
       " 'animation.convert_path',\n",
       " 'animation.ffmpeg_args',\n",
       " 'animation.ffmpeg_path',\n",
       " 'animation.frame_format',\n",
       " 'animation.html',\n",
       " 'animation.mencoder_args',\n",
       " 'animation.mencoder_path',\n",
       " 'animation.writer',\n",
       " 'axes.autolimit_mode',\n",
       " 'axes.axisbelow',\n",
       " 'axes.edgecolor',\n",
       " 'axes.facecolor',\n",
       " 'axes.formatter.limits',\n",
       " 'axes.formatter.offset_threshold',\n",
       " 'axes.formatter.use_locale',\n",
       " 'axes.formatter.use_mathtext',\n",
       " 'axes.formatter.useoffset',\n",
       " 'axes.grid',\n",
       " 'axes.grid.axis',\n",
       " 'axes.grid.which',\n",
       " 'axes.hold',\n",
       " 'axes.labelcolor',\n",
       " 'axes.labelpad',\n",
       " 'axes.labelsize',\n",
       " 'axes.labelweight',\n",
       " 'axes.linewidth',\n",
       " 'axes.prop_cycle',\n",
       " 'axes.spines.bottom',\n",
       " 'axes.spines.left',\n",
       " 'axes.spines.right',\n",
       " 'axes.spines.top',\n",
       " 'axes.titlepad',\n",
       " 'axes.titlesize',\n",
       " 'axes.titleweight',\n",
       " 'axes.unicode_minus',\n",
       " 'axes.xmargin',\n",
       " 'axes.ymargin',\n",
       " 'axes3d.grid',\n",
       " 'backend',\n",
       " 'backend.qt4',\n",
       " 'backend.qt5',\n",
       " 'backend_fallback',\n",
       " 'boxplot.bootstrap',\n",
       " 'boxplot.boxprops.color',\n",
       " 'boxplot.boxprops.linestyle',\n",
       " 'boxplot.boxprops.linewidth',\n",
       " 'boxplot.capprops.color',\n",
       " 'boxplot.capprops.linestyle',\n",
       " 'boxplot.capprops.linewidth',\n",
       " 'boxplot.flierprops.color',\n",
       " 'boxplot.flierprops.linestyle',\n",
       " 'boxplot.flierprops.linewidth',\n",
       " 'boxplot.flierprops.marker',\n",
       " 'boxplot.flierprops.markeredgecolor',\n",
       " 'boxplot.flierprops.markerfacecolor',\n",
       " 'boxplot.flierprops.markersize',\n",
       " 'boxplot.meanline',\n",
       " 'boxplot.meanprops.color',\n",
       " 'boxplot.meanprops.linestyle',\n",
       " 'boxplot.meanprops.linewidth',\n",
       " 'boxplot.meanprops.marker',\n",
       " 'boxplot.meanprops.markeredgecolor',\n",
       " 'boxplot.meanprops.markerfacecolor',\n",
       " 'boxplot.meanprops.markersize',\n",
       " 'boxplot.medianprops.color',\n",
       " 'boxplot.medianprops.linestyle',\n",
       " 'boxplot.medianprops.linewidth',\n",
       " 'boxplot.notch',\n",
       " 'boxplot.patchartist',\n",
       " 'boxplot.showbox',\n",
       " 'boxplot.showcaps',\n",
       " 'boxplot.showfliers',\n",
       " 'boxplot.showmeans',\n",
       " 'boxplot.vertical',\n",
       " 'boxplot.whiskerprops.color',\n",
       " 'boxplot.whiskerprops.linestyle',\n",
       " 'boxplot.whiskerprops.linewidth',\n",
       " 'boxplot.whiskers',\n",
       " 'contour.corner_mask',\n",
       " 'contour.negative_linestyle',\n",
       " 'datapath',\n",
       " 'date.autoformatter.day',\n",
       " 'date.autoformatter.hour',\n",
       " 'date.autoformatter.microsecond',\n",
       " 'date.autoformatter.minute',\n",
       " 'date.autoformatter.month',\n",
       " 'date.autoformatter.second',\n",
       " 'date.autoformatter.year',\n",
       " 'docstring.hardcopy',\n",
       " 'errorbar.capsize',\n",
       " 'examples.directory',\n",
       " 'figure.autolayout',\n",
       " 'figure.dpi',\n",
       " 'figure.edgecolor',\n",
       " 'figure.facecolor',\n",
       " 'figure.figsize',\n",
       " 'figure.frameon',\n",
       " 'figure.max_open_warning',\n",
       " 'figure.subplot.bottom',\n",
       " 'figure.subplot.hspace',\n",
       " 'figure.subplot.left',\n",
       " 'figure.subplot.right',\n",
       " 'figure.subplot.top',\n",
       " 'figure.subplot.wspace',\n",
       " 'figure.titlesize',\n",
       " 'figure.titleweight',\n",
       " 'font.cursive',\n",
       " 'font.family',\n",
       " 'font.fantasy',\n",
       " 'font.monospace',\n",
       " 'font.sans-serif',\n",
       " 'font.serif',\n",
       " 'font.size',\n",
       " 'font.stretch',\n",
       " 'font.style',\n",
       " 'font.variant',\n",
       " 'font.weight',\n",
       " 'grid.alpha',\n",
       " 'grid.color',\n",
       " 'grid.linestyle',\n",
       " 'grid.linewidth',\n",
       " 'hatch.color',\n",
       " 'hatch.linewidth',\n",
       " 'hist.bins',\n",
       " 'image.aspect',\n",
       " 'image.cmap',\n",
       " 'image.composite_image',\n",
       " 'image.interpolation',\n",
       " 'image.lut',\n",
       " 'image.origin',\n",
       " 'image.resample',\n",
       " 'interactive',\n",
       " 'keymap.all_axes',\n",
       " 'keymap.back',\n",
       " 'keymap.forward',\n",
       " 'keymap.fullscreen',\n",
       " 'keymap.grid',\n",
       " 'keymap.home',\n",
       " 'keymap.pan',\n",
       " 'keymap.quit',\n",
       " 'keymap.save',\n",
       " 'keymap.xscale',\n",
       " 'keymap.yscale',\n",
       " 'keymap.zoom',\n",
       " 'legend.borderaxespad',\n",
       " 'legend.borderpad',\n",
       " 'legend.columnspacing',\n",
       " 'legend.edgecolor',\n",
       " 'legend.facecolor',\n",
       " 'legend.fancybox',\n",
       " 'legend.fontsize',\n",
       " 'legend.framealpha',\n",
       " 'legend.frameon',\n",
       " 'legend.handleheight',\n",
       " 'legend.handlelength',\n",
       " 'legend.handletextpad',\n",
       " 'legend.labelspacing',\n",
       " 'legend.loc',\n",
       " 'legend.markerscale',\n",
       " 'legend.numpoints',\n",
       " 'legend.scatterpoints',\n",
       " 'legend.shadow',\n",
       " 'lines.antialiased',\n",
       " 'lines.color',\n",
       " 'lines.dash_capstyle',\n",
       " 'lines.dash_joinstyle',\n",
       " 'lines.dashdot_pattern',\n",
       " 'lines.dashed_pattern',\n",
       " 'lines.dotted_pattern',\n",
       " 'lines.linestyle',\n",
       " 'lines.linewidth',\n",
       " 'lines.marker',\n",
       " 'lines.markeredgewidth',\n",
       " 'lines.markersize',\n",
       " 'lines.scale_dashes',\n",
       " 'lines.solid_capstyle',\n",
       " 'lines.solid_joinstyle',\n",
       " 'markers.fillstyle',\n",
       " 'mathtext.bf',\n",
       " 'mathtext.cal',\n",
       " 'mathtext.default',\n",
       " 'mathtext.fallback_to_cm',\n",
       " 'mathtext.fontset',\n",
       " 'mathtext.it',\n",
       " 'mathtext.rm',\n",
       " 'mathtext.sf',\n",
       " 'mathtext.tt',\n",
       " 'nbagg.transparent',\n",
       " 'patch.antialiased',\n",
       " 'patch.edgecolor',\n",
       " 'patch.facecolor',\n",
       " 'patch.force_edgecolor',\n",
       " 'patch.linewidth',\n",
       " 'path.effects',\n",
       " 'path.simplify',\n",
       " 'path.simplify_threshold',\n",
       " 'path.sketch',\n",
       " 'path.snap',\n",
       " 'pdf.compression',\n",
       " 'pdf.fonttype',\n",
       " 'pdf.inheritcolor',\n",
       " 'pdf.use14corefonts',\n",
       " 'pgf.debug',\n",
       " 'pgf.preamble',\n",
       " 'pgf.rcfonts',\n",
       " 'pgf.texsystem',\n",
       " 'plugins.directory',\n",
       " 'polaraxes.grid',\n",
       " 'ps.distiller.res',\n",
       " 'ps.fonttype',\n",
       " 'ps.papersize',\n",
       " 'ps.useafm',\n",
       " 'ps.usedistiller',\n",
       " 'savefig.bbox',\n",
       " 'savefig.directory',\n",
       " 'savefig.dpi',\n",
       " 'savefig.edgecolor',\n",
       " 'savefig.facecolor',\n",
       " 'savefig.format',\n",
       " 'savefig.frameon',\n",
       " 'savefig.jpeg_quality',\n",
       " 'savefig.orientation',\n",
       " 'savefig.pad_inches',\n",
       " 'savefig.transparent',\n",
       " 'scatter.marker',\n",
       " 'svg.fonttype',\n",
       " 'svg.hashsalt',\n",
       " 'svg.image_inline',\n",
       " 'text.antialiased',\n",
       " 'text.color',\n",
       " 'text.dvipnghack',\n",
       " 'text.hinting',\n",
       " 'text.hinting_factor',\n",
       " 'text.latex.preamble',\n",
       " 'text.latex.preview',\n",
       " 'text.latex.unicode',\n",
       " 'text.usetex',\n",
       " 'timezone',\n",
       " 'tk.window_focus',\n",
       " 'toolbar',\n",
       " 'verbose.fileo',\n",
       " 'verbose.level',\n",
       " 'webagg.open_in_browser',\n",
       " 'webagg.port',\n",
       " 'webagg.port_retries',\n",
       " 'xtick.alignment',\n",
       " 'xtick.bottom',\n",
       " 'xtick.color',\n",
       " 'xtick.direction',\n",
       " 'xtick.labelsize',\n",
       " 'xtick.major.bottom',\n",
       " 'xtick.major.pad',\n",
       " 'xtick.major.size',\n",
       " 'xtick.major.top',\n",
       " 'xtick.major.width',\n",
       " 'xtick.minor.bottom',\n",
       " 'xtick.minor.pad',\n",
       " 'xtick.minor.size',\n",
       " 'xtick.minor.top',\n",
       " 'xtick.minor.visible',\n",
       " 'xtick.minor.width',\n",
       " 'xtick.top',\n",
       " 'ytick.alignment',\n",
       " 'ytick.color',\n",
       " 'ytick.direction',\n",
       " 'ytick.labelsize',\n",
       " 'ytick.left',\n",
       " 'ytick.major.left',\n",
       " 'ytick.major.pad',\n",
       " 'ytick.major.right',\n",
       " 'ytick.major.size',\n",
       " 'ytick.major.width',\n",
       " 'ytick.minor.left',\n",
       " 'ytick.minor.pad',\n",
       " 'ytick.minor.right',\n",
       " 'ytick.minor.size',\n",
       " 'ytick.minor.visible',\n",
       " 'ytick.minor.width',\n",
       " 'ytick.right']"
      ]
     },
     "execution_count": 15,
     "metadata": {},
     "output_type": "execute_result"
    }
   ],
   "source": [
    "plt.rcParams.keys()"
   ]
  },
  {
   "cell_type": "code",
   "execution_count": 16,
   "metadata": {},
   "outputs": [
    {
     "data": {
      "image/png": "[encoded data removed]",
      "text/plain": [
       "<matplotlib.figure.Figure at 0x7fd2e8adba58>"
      ]
     },
     "metadata": {},
     "output_type": "display_data"
    }
   ],
   "source": [
    "with plt.style.context({'axes.prop_cycle': plt.cycler('color', colors),\n",
    "                       'xtick.labelsize': 20, 'figure.facecolor': \"#AAAAAA\"}):\n",
    "    plt.plot([1,2,3,4], [2,3,4,5])\n",
    "    plt.plot([1,2,3,4], [1,2,3,4])\n",
    "    plt.plot([1,2,3,4], [3,4,5,6])"
   ]
  },
  {
   "cell_type": "code",
   "execution_count": 17,
   "metadata": {},
   "outputs": [
    {
     "data": {
      "image/png": "[encoded data removed]",
      "text/plain": [
       "<matplotlib.figure.Figure at 0x7fd2e2fe3828>"
      ]
     },
     "metadata": {},
     "output_type": "display_data"
    }
   ],
   "source": [
    "with plt.style.context([\"seaborn\", \n",
    "                       {'axes.prop_cycle': plt.cycler('color', colors),\n",
    "                       'xtick.labelsize': 20}]):\n",
    "    plt.plot([1,2,3,4], [2,3,4,5])\n",
    "    plt.plot([1,2,3,4], [1,2,3,4])\n",
    "    plt.plot([1,2,3,4], [3,4,5,6])"
   ]
  },
  {
   "cell_type": "code",
   "execution_count": null,
   "metadata": {
    "collapsed": true
   },
   "outputs": [],
   "source": []
  }
 ],
 "metadata": {
  "kernelspec": {
   "display_name": "Python 3",
   "language": "python",
   "name": "python3"
  },
  "language_info": {
   "codemirror_mode": {
    "name": "ipython",
    "version": 3
   },
   "file_extension": ".py",
   "mimetype": "text/x-python",
   "name": "python",
   "nbconvert_exporter": "python",
   "pygments_lexer": "ipython3",
   "version": "3.6.3"
  },
  "widgets": {
   "state": {
    "206e4c0aabed4e21b8f4412c2b33c92f": {
     "views": [
      {
       "cell_index": 7
      }
     ]
    }
   },
   "version": "1.2.0"
  }
 },
 "nbformat": 4,
 "nbformat_minor": 2
}
